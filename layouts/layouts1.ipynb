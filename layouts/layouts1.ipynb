{
 "cells": [
  {
   "cell_type": "markdown",
   "metadata": {
    "heading_collapsed": true
   },
   "source": [
    "### Imports"
   ]
  },
  {
   "cell_type": "code",
   "execution_count": 85,
   "metadata": {
    "ExecuteTime": {
     "end_time": "2016-06-20T18:50:01.635648",
     "start_time": "2016-06-20T18:50:01.596610"
    },
    "collapsed": false,
    "hidden": true,
    "init_cell": true
   },
   "outputs": [],
   "source": [
    "from __future__ import print_function, division, absolute_import\n",
    "import os\n",
    "from os.path import join\n",
    "import numpy as np\n",
    "import matplotlib.pyplot as plt\n",
    "from matplotlib import ticker\n",
    "from matplotlib.colors import SymLogNorm\n",
    "from mpl_toolkits.axes_grid1 import make_axes_locatable\n",
    "from shutil import rmtree\n",
    "from matplotlib.ticker import FormatStrFormatter\n",
    "from math import radians, degrees, pi, ceil, sin, asin, log, log10, floor\n",
    "from scipy.sparse import csr_matrix\n",
    "from scipy.sparse.csgraph import minimum_spanning_tree\n",
    "from scipy.spatial.distance import pdist, squareform\n",
    "from scipy import stats\n",
    "from pyuvwsim import (evaluate_baseline_uvw_ha_dec, \n",
    "                      convert_enu_to_ecef)\n",
    "from utilities.generators import (inner_arms,\n",
    "                                  inner_arms_clusters)   \n",
    "from utilities.plotting import save_fig\n",
    "from utilities.analysis import generate_psf_3\n",
    "import oskar\n",
    "import seaborn\n",
    "seaborn.set(style='ticks')\n",
    "seaborn.set_style('ticks', {'xtick.major.size': 5, 'ytick.major.size': 5})\n",
    "seaborn.set_context(\"notebook\", font_scale=1.0, rc={\"lines.linewidth\": 2.5})\n",
    "%matplotlib inline\n",
    "%config InlineBackend.figure_format = 'retina'"
   ]
  },
  {
   "cell_type": "markdown",
   "metadata": {
    "heading_collapsed": true
   },
   "source": [
    "### Settings"
   ]
  },
  {
   "cell_type": "code",
   "execution_count": 3,
   "metadata": {
    "ExecuteTime": {
     "end_time": "2016-06-20T18:04:53.899874",
     "start_time": "2016-06-20T18:04:53.886842"
    },
    "collapsed": false,
    "hidden": true
   },
   "outputs": [],
   "source": [
    "# Settings\n",
    "results_dir = 'temp_results'\n",
    "station_d = 45.0\n",
    "lon = radians(116.63128900)\n",
    "lat = radians(-26.69702400)\n",
    "alt = 0.0\n",
    "dec = lat\n",
    "obs_length = 0.0  # Hours, assumed to be symmetric about ha = 0.0\n",
    "dump_time = 10  # Minutes\n",
    "num_times = 1 if obs_length * 60 < dump_time \\\n",
    "    else ((obs_length) * 60) // dump_time  # 1 sample every 10 min\n",
    "freq_hz = 100.0e6\n",
    "oversampling = 2.4\n",
    "res_n = 10\n",
    "# res_bmin = None\n",
    "# res_bmax = None\n",
    "res_bmin = 50\n",
    "res_bmax = 11.0e3\n",
    "r_min = 500.0\n",
    "r_max = 5000.0\n",
    "wavelength = 299792458.0 / freq_hz\n",
    "\n",
    "if os.path.isdir(results_dir):\n",
    "    rmtree(results_dir)"
   ]
  },
  {
   "cell_type": "markdown",
   "metadata": {
    "heading_collapsed": true
   },
   "source": [
    "### Generate layouts"
   ]
  },
  {
   "cell_type": "code",
   "execution_count": 4,
   "metadata": {
    "ExecuteTime": {
     "end_time": "2016-06-20T18:04:56.738021",
     "start_time": "2016-06-20T18:04:56.703629"
    },
    "collapsed": false,
    "hidden": true
   },
   "outputs": [
    {
     "name": "stdout",
     "output_type": "stream",
     "text": [
      "0 clusters 72\n",
      "1 spiral 72\n"
     ]
    }
   ],
   "source": [
    "layouts = dict()\n",
    "\n",
    "b, num_arms, n = 0.5, 6, 12\n",
    "layouts['spiral'] = inner_arms(b, num_arms, n, r_min, r_max)\n",
    "\n",
    "b, num_arms, clusters_per_arm, stations_per_cluster = 0.5, 3, 4, 6\n",
    "cluster_d, station_r = 200, station_d / 2\n",
    "layouts['clusters'] = inner_arms_clusters(b, num_arms, clusters_per_arm, \n",
    "                                 stations_per_cluster, cluster_d, station_r,\n",
    "                                 r_min, r_max)\n",
    "\n",
    "# b, num_arms, clusters_per_arm, stations_per_cluster = 0.5, 3, 8, 3\n",
    "# cluster_d, station_r = 200, station_d / 2\n",
    "# layouts[2] = inner_arms_clusters(b, num_arms, clusters_per_arm, \n",
    "#                                  stations_per_cluster, cluster_d, station_r,\n",
    "#                                  r_min, r_max)\n",
    "\n",
    "for i, name in enumerate(layouts):\n",
    "    print(i, name, layouts[name]['x'].shape[0])"
   ]
  },
  {
   "cell_type": "markdown",
   "metadata": {
    "ExecuteTime": {
     "end_time": "2016-06-20T17:28:08.389229",
     "start_time": "2016-06-20T17:28:08.386034"
    },
    "heading_collapsed": true
   },
   "source": [
    "### Network graph"
   ]
  },
  {
   "cell_type": "code",
   "execution_count": 11,
   "metadata": {
    "ExecuteTime": {
     "end_time": "2016-06-20T17:09:08.870929",
     "start_time": "2016-06-20T17:09:07.699751"
    },
    "collapsed": false,
    "hidden": true
   },
   "outputs": [
    {
     "name": "stdout",
     "output_type": "stream",
     "text": [
      "0 20.2607111548\n",
      "1 56.3336975823\n"
     ]
    }
   ],
   "source": [
    "def plot_network(x, y, tree):\n",
    "    fig = plt.figure(figsize=(5, 5))\n",
    "    ax = fig.add_subplot(111)\n",
    "    for sx, sy in zip(x, y):\n",
    "        c = plt.Circle((sx, sy), station_d/2, fill=True, color='k', \n",
    "                       alpha=1.0)\n",
    "        ax.add_artist(c)     \n",
    "    for i in range(y.shape[0]):\n",
    "        for j in range(x.shape[0]):\n",
    "            if tree[i, j] > 0:\n",
    "                ax.plot([x[i], x[j]], [y[i], y[j]], 'r-', alpha=0.5, lw=1.0)\n",
    "    ax.set_xlim(-r_max*1.05, r_max*1.05)\n",
    "    ax.set_ylim(-r_max*1.05, r_max*1.05)\n",
    "    ax.set_xlabel('east (m)')\n",
    "    ax.set_ylabel('north (m)')\n",
    "    save_fig(fig, 'network_%s.png' % name, [results_dir, 'network'])\n",
    "    # plt.show()\n",
    "    plt.close(fig)\n",
    "\n",
    "# Network for the layout\n",
    "for i, name in enumerate(layouts):\n",
    "    layout = layouts[name]\n",
    "    x, y = layout['x'], layout['y']\n",
    "    coords = np.transpose(np.vstack((x, y)))\n",
    "    tree = minimum_spanning_tree(squareform(pdist(coords))).toarray()\n",
    "    layout['cable_length'] = np.sum(tree)\n",
    "    print(i, layout['cable_length'] / 1.0e3)\n",
    "    plot_network(x, y, tree)\n"
   ]
  },
  {
   "cell_type": "markdown",
   "metadata": {
    "heading_collapsed": true
   },
   "source": [
    "### Generate uvw coordinates"
   ]
  },
  {
   "cell_type": "code",
   "execution_count": 5,
   "metadata": {
    "ExecuteTime": {
     "end_time": "2016-06-20T18:05:00.371113",
     "start_time": "2016-06-20T18:05:00.351257"
    },
    "collapsed": false,
    "hidden": true
   },
   "outputs": [],
   "source": [
    "def uvw_coords(layout, obs_length, num_times, lon, dec):\n",
    "    \"\"\"Update the layout by adding uvw coordinates.\"\"\"\n",
    "    x, y = layout['x'], layout['y']\n",
    "    z = layout['z'] if 'z' in layout else np.zeros_like(x)        \n",
    "    coord_type = layout['coord_type'] if 'coord_type' in layout else 'enu'\n",
    "    if coord_type == 'enu':\n",
    "        x, y, z = convert_enu_to_ecef(x, y, z, lon, lat, alt)       \n",
    "    uu, vv, ww = np.array([]), np.array([]), np.array([])\n",
    "    ha_off = ((obs_length / 2) / 24) * (2 * pi)\n",
    "    for i, ha in enumerate(np.linspace(-ha_off, ha_off, num_times)):\n",
    "        uu_, vv_, ww_ = evaluate_baseline_uvw_ha_dec(x, y, z, ha - lon, dec)\n",
    "        uu, vv, ww = np.append(uu, uu_), np.append(vv, vv_), np.append(ww, ww_)\n",
    "    layout['uu'], layout['vv'], layout['ww'] = uu, vv, ww\n",
    "    layout['r2d'] = (uu**2 + vv**2)**0.5    \n",
    "\n",
    "# Generate uv coordinates for each layout\n",
    "for i, name in enumerate(layouts):\n",
    "    layout = layouts[name]\n",
    "    uvw_coords(layout, obs_length, num_times, lon, dec)"
   ]
  },
  {
   "cell_type": "markdown",
   "metadata": {
    "ExecuteTime": {
     "end_time": "2016-06-20T17:27:26.086593",
     "start_time": "2016-06-20T17:27:26.083466"
    },
    "heading_collapsed": true
   },
   "source": [
    "### Plotting of layout and uvw coords"
   ]
  },
  {
   "cell_type": "code",
   "execution_count": 13,
   "metadata": {
    "ExecuteTime": {
     "end_time": "2016-06-20T17:09:10.377726",
     "start_time": "2016-06-20T17:09:08.891981"
    },
    "collapsed": false,
    "hidden": true
   },
   "outputs": [],
   "source": [
    "def plot_stations(layouts, name):\n",
    "    \"\"\"Plot the station coords from the layout\"\"\"\n",
    "    layout = layouts[name]\n",
    "    fig = plt.figure(figsize=(3, 3))\n",
    "    ax = fig.add_subplot(111)\n",
    "    for sx, sy in zip(layout['x'], layout['y']):\n",
    "        c = plt.Circle((sx, sy), station_d/2, fill=True, color='k', \n",
    "                       alpha=0.8)\n",
    "        ax.add_artist(c)     \n",
    "    c = plt.Circle((0.0, 0.0), r_max, fill=False, color='r', linestyle='-',\n",
    "                   linewidth=1.5, alpha=0.5)\n",
    "    ax.add_artist(c)     \n",
    "    c = plt.Circle((0.0, 0.0), r_min, fill=False, color='r', linestyle='-',\n",
    "                   linewidth=1.5, alpha=0.5)\n",
    "    ax.add_artist(c)\n",
    "    ax.set_xlim(-r_max*1.05, r_max*1.05)\n",
    "    ax.set_ylim(-r_max*1.05, r_max*1.05)\n",
    "    # ax.set_title('layout %s' % name)\n",
    "    ax.set_xlabel('east (m)')\n",
    "    ax.set_ylabel('north (m)')\n",
    "    save_fig(fig, 'layout_%s.png' % name, [results_dir, 'layout'])\n",
    "    # plt.show()\n",
    "    plt.close(fig)\n",
    "    \n",
    "def plot_uvw(layouts, name):\n",
    "    \"\"\"Plot baseline uvw coords from the layout\"\"\"\n",
    "    layout = layouts[name]\n",
    "    fig = plt.figure(figsize=(3, 3))\n",
    "    ax = fig.add_subplot(111)\n",
    "    ax.plot(layout['uu'], layout['vv'], '.', ms=5.0, c='k', alpha=0.2)\n",
    "    ax.plot(-layout['uu'], -layout['vv'], '.', ms=5.0, c='k', alpha=0.2)\n",
    "    lim = layout['r2d'].max()\n",
    "    ax.set_xlim(-lim*1.05, lim*1.05)\n",
    "    ax.set_ylim(-lim*1.05, lim*1.05)\n",
    "    # ax.set_title('layout %s' % name)\n",
    "    ax.set_xlabel('uu (m)')\n",
    "    ax.set_ylabel('vv (m)')\n",
    "    save_fig(fig, 'uvw_%s.png' % name, [results_dir, 'uvw'])\n",
    "    # plt.show()\n",
    "    plt.close(fig)\n",
    "    \n",
    "\n",
    "# Plot layouts\n",
    "for i, name in enumerate(layouts):\n",
    "    plot_stations(layouts, name)\n",
    "    plot_uvw(layouts, name)"
   ]
  },
  {
   "cell_type": "markdown",
   "metadata": {
    "heading_collapsed": true
   },
   "source": [
    "### PSFRMS"
   ]
  },
  {
   "cell_type": "code",
   "execution_count": 57,
   "metadata": {
    "ExecuteTime": {
     "end_time": "2016-06-20T18:22:53.280641",
     "start_time": "2016-06-20T18:22:49.858444"
    },
    "collapsed": false,
    "hidden": true
   },
   "outputs": [],
   "source": [
    "def pow10floor(x):\n",
    "    return 10**floor(log10(x))\n",
    "\n",
    "def pow10round(x):\n",
    "    return 10**floor(log10(x) + 0.5)\n",
    "\n",
    "def pow10ceil(x):\n",
    "    return 10**ceil(log10(x))\n",
    "\n",
    "def plot_psfrms_r(r, psfrms_r, name):\n",
    "    fig = plt.figure(figsize=(3, 3))\n",
    "    ax = fig.add_subplot(111)\n",
    "    ax.plot(r, psfrms_r, '.-', ms=10.0, lw=1.0, c='b')\n",
    "    ax.set_xscale('log')\n",
    "    ax.set_yscale('log')\n",
    "    ax.grid(True)\n",
    "    ax.set_xlim(pow10floor(r[0]), pow10ceil(r[-1]))\n",
    "    ax.set_ylim(pow10floor(psfrms_r.min()), 1.05)\n",
    "    ax.set_xlabel('radius (m)')\n",
    "    ax.set_ylabel('psfrms')\n",
    "    save_fig(fig, 'psfrms_%s.png' % name, [results_dir, 'psfrms'])\n",
    "    # plt.show()\n",
    "    plt.close(fig)\n",
    "    \n",
    "def plot_psfrms_r_compare(layouts):\n",
    "    fig = plt.figure(figsize=(3, 3))\n",
    "    ax = fig.add_subplot(111)\n",
    "    ymin, xmin, xmax = 1.0e70, 1.0e70, 0.0\n",
    "    for i, name in enumerate(layouts):\n",
    "        ax.plot(layouts[name]['psfrms_r_x'], layouts[name]['psfrms_r_y'], \n",
    "                '.-', ms=10.0, lw=1.0, label=name)\n",
    "        ymin = min(ymin, layouts[name]['psfrms_r_y'].min())\n",
    "        xmin = min(xmin, layouts[name]['psfrms_r_x'][0])\n",
    "        xmax = max(xmax, layouts[name]['psfrms_r_x'][-1])\n",
    "    ax.set_xscale('log')\n",
    "    ax.set_yscale('log')\n",
    "    ax.grid(True)\n",
    "    ax.set_xlabel('radius (m)')\n",
    "    ax.set_ylabel('psfrms')\n",
    "    ax.set_ylim(ymin, 1.1)\n",
    "    ax.set_xlim(pow10floor(xmin), pow10ceil(xmax))\n",
    "    ax.set_ylim(pow10floor(ymin), 1.05)\n",
    "    ax.legend()\n",
    "    save_fig(fig, 'psfrms_compare.png', [results_dir, 'psfrms'])\n",
    "    # plt.show()\n",
    "    plt.close(fig)\n",
    "\n",
    "def eval_psfrms(layout):\n",
    "    b_max = layout['r2d'].max() * 2.01\n",
    "    grid_size = int(ceil(oversampling * (b_max / station_d)))\n",
    "    if grid_size % 2 == 1:\n",
    "        grid_size += 1\n",
    "    cell = b_max / grid_size\n",
    "    cell_lm = 1.0 / (grid_size * (cell / wavelength))\n",
    "    lm_max = (grid_size * sin(cell_lm)) / 2.0\n",
    "    fov = degrees(asin(lm_max)) * 2.0\n",
    "    imager = oskar.imager.Imager('Single')\n",
    "    imager.set_grid_kernel('Pillbox', 1, 1)\n",
    "    imager.set_size(grid_size)\n",
    "    imager.set_fov(fov)\n",
    "    uu, vv = layout['uu'], layout['vv']\n",
    "    uv_grid = np.zeros((grid_size, grid_size), dtype='c8')\n",
    "    norm = imager.update_plane(uu / wavelength, vv / wavelength,\n",
    "                               np.zeros_like(uu), \n",
    "                               np.ones(uu.shape, dtype='c8'),\n",
    "                               np.ones_like(uu), uv_grid, 0.0)\n",
    "    norm += imager.update_plane(-uu / wavelength, -vv / wavelength,\n",
    "                                np.zeros_like(uu), \n",
    "                                np.ones(uu.shape, dtype='c8'),\n",
    "                                np.ones_like(uu), uv_grid, 0.0)\n",
    "    if int(norm) != uu.shape[0] * 2 or np.sum(uv_grid.imag) != 0.0:\n",
    "        raise AssertionError('Gridding error detected %f %i' % \n",
    "                             (norm, uu.shape[0] * 2))       \n",
    "    psfrms = np.sqrt(np.sum(uv_grid.real**2)) / (uu.shape[0] * 2.0)\n",
    "    layout['psfrms'] = psfrms\n",
    "    \n",
    "    # Radial profile\n",
    "    centre = grid_size // 2\n",
    "    x_ = np.arange(-centre, centre) * cell\n",
    "    gx, gy = np.meshgrid(-x_, x_)\n",
    "    gr = (gx**2 + gy**2)**0.5\n",
    "    b0 = layout['r2d'].min() if not res_bmin else res_bmin\n",
    "    b1 = layout['r2d'].max() if not res_bmax else res_bmax\n",
    "    r_bins = np.logspace(log10(b0), log10(b1), res_n + 1)\n",
    "    psfrms_r = np.zeros(res_n)\n",
    "    for i in range(res_n):\n",
    "        pixels = uv_grid[np.where(gr <= r_bins[i + 1])]\n",
    "        uv_idx = np.where(layout['r2d'] <= r_bins[i + 1])[0]\n",
    "        uv_count = uv_idx.shape[0] * 2\n",
    "        psfrms_r[i] = 1.0 if uv_count == 0 else \\\n",
    "            np.sqrt(np.sum(pixels.real**2)) / uv_count\n",
    "    layout['psfrms_r_y'] = psfrms_r\n",
    "    layout['psfrms_r_x'] = r_bins[1:]\n",
    "    \n",
    "    \n",
    "for i, name in enumerate(layouts):\n",
    "    layout = layouts[name]\n",
    "    eval_psfrms(layout)\n",
    "    plot_psfrms_r(layout['psfrms_r_x'], layout['psfrms_r_y'], name)\n",
    "    \n",
    "\n",
    "# Plot psfrms radial comparison\n",
    "plot_psfrms_r_compare(layouts)"
   ]
  },
  {
   "cell_type": "markdown",
   "metadata": {
    "heading_collapsed": true
   },
   "source": [
    "### PSF (2d & 1d)"
   ]
  },
  {
   "cell_type": "code",
   "execution_count": 114,
   "metadata": {
    "ExecuteTime": {
     "end_time": "2016-06-20T19:05:47.902657",
     "start_time": "2016-06-20T19:05:46.752206"
    },
    "code_folding": [
     0,
     29,
     55,
     64,
     102
    ],
    "collapsed": false,
    "hidden": true
   },
   "outputs": [],
   "source": [
    "def gen_psf(layout, fov_deg=None, psf_id=0):\n",
    "    if 'psf' in layout and psf_id in layout['psf']:\n",
    "        # print('PSF already exists! id=%i' % psf_id)\n",
    "        return\n",
    "    b_max = layout['r2d'].max() * 2.01\n",
    "    grid_size = int(ceil(oversampling * (b_max / station_d)))\n",
    "    if grid_size % 2 == 1:\n",
    "        grid_size += 1\n",
    "    cell = b_max / grid_size\n",
    "    cell_lm = 1.0 / (grid_size * (cell / wavelength))\n",
    "    if not fov_deg:\n",
    "        lm_max = (grid_size * sin(cell_lm)) / 2.0\n",
    "        fov_deg = degrees(asin(lm_max)) * 2.0\n",
    "    else:\n",
    "        lm_max = sin(radians(fov_deg) * 0.5)\n",
    "        grid_size = int(ceil((lm_max * oversampling * 2) / cell_lm)) * 2\n",
    "    psf = generate_psf_3(layout['uu'], layout['vv'], layout['ww'], \n",
    "                         grid_size, fov_deg)\n",
    "    if not 'psf' in layout:\n",
    "        layout['psf'] = dict()\n",
    "    psf_dict = {\n",
    "        'image': psf,\n",
    "        'fov': fov_deg,\n",
    "        'im_size': grid_size,\n",
    "        'lm_max': lm_max\n",
    "    }    \n",
    "    layout['psf'][psf_id] = psf_dict\n",
    "\n",
    "    \n",
    "def plot_psf_2d(psf, name):\n",
    "    out_name = 'psf_%s_%.3f.png' % (name, psf['fov'])\n",
    "    out_dir = [results_dir, 'psf_2d']\n",
    "    path = join(join(*out_dir), out_name)\n",
    "    if os.path.isfile(join(join(*out_dir), out_name)):\n",
    "        return\n",
    "    im_size = psf['im_size']\n",
    "    centre = im_size / 2\n",
    "    extent = np.array([centre + 0.5, -centre + 0.5,\n",
    "                      -centre - 0.5, centre - 0.5])\n",
    "    lm_inc = (2.0 * psf['lm_max']) / im_size\n",
    "    extent *= degrees(asin(lm_inc))\n",
    "    fig = plt.figure(figsize=(3, 3))\n",
    "    ax = fig.add_subplot(111)\n",
    "    im_ = ax.imshow(psf['image'], interpolation='nearest', cmap='inferno', \n",
    "                    origin='lower', extent=extent,\n",
    "                    norm=SymLogNorm(linthresh=0.1, linscale=1.0, vmin=-0.1,\n",
    "                                   vmax=0.5, clip=False))\n",
    "    divider = make_axes_locatable(ax)\n",
    "    cax = divider.append_axes('right', size='5%', pad=0.03)\n",
    "    cbar = ax.figure.colorbar(im_, cax=cax, format='%.1f')\n",
    "    cbar.ax.tick_params(labelsize='smaller')   \n",
    "    save_fig(fig, out_name, out_dir, 10, 10)\n",
    "    # plt.show()\n",
    "    plt.close(fig)\n",
    "\n",
    "def get_psf_coords(fov_deg, im_size):\n",
    "    lm_max = sin(0.5 * radians(fov_deg))\n",
    "    lm_inc = 2.0 * lm_max / im_size\n",
    "    l = np.arange(-im_size // 2, im_size // 2, dtype='f8')\n",
    "    l *= lm_inc\n",
    "    l, m = np.meshgrid(-l, l)\n",
    "    r = (l**2 + m**2)**0.5\n",
    "    return l, m, r\n",
    "    \n",
    "def plot_psf_1d(psf, name):\n",
    "    out_name = 'psf_%s_%.3f.png' % (name, psf['fov'])\n",
    "    out_dir = [results_dir, 'psf_1d']\n",
    "    path = join(join(*out_dir), out_name)\n",
    "    if os.path.isfile(join(join(*out_dir), out_name)):\n",
    "        return\n",
    "    l, m, r_lm = get_psf_coords(psf['fov'], psf['im_size'])\n",
    "    r_lm = r_lm.flatten()\n",
    "    order = np.argsort(r_lm)\n",
    "    r_lm = r_lm[order]\n",
    "    psf_1d = psf['image'].flatten()[order]\n",
    "    psf_hwhm = (wavelength / (r_max * 2.0)) / 2.0  # FIXME(BM) better expression...\n",
    "    x = r_lm  # / psf_hwhm\n",
    "    # x = np.degrees(np.arcsin(r_lm))\n",
    "    num_bins = 500\n",
    "    bin_mean, edges, number = \\\n",
    "        stats.binned_statistic(x, psf_1d, statistic='mean', \n",
    "                               bins=num_bins)\n",
    "    bin_x = (edges[1:] + edges[:-1]) / 2\n",
    "    def bin_max(values):\n",
    "        return np.abs(values).max()\n",
    "    bin_max, edges, number = \\\n",
    "        stats.binned_statistic(x, psf_1d, statistic=bin_max, \n",
    "                               bins=num_bins)\n",
    "    psf['bin_x'] = bin_x\n",
    "    psf['bin_mean'] = bin_mean\n",
    "    psf['bin_max'] = bin_max\n",
    "    \n",
    "    fig = plt.figure(figsize=(3, 3))\n",
    "    ax = fig.add_subplot(111)\n",
    "    ax.plot(bin_x, bin_mean, '-', c='b', lw=1.0, label='mean')\n",
    "    ax.plot(bin_x, bin_max, '-', c='r', lw=1.0, label='max')\n",
    "    ax.set_ylim(-0.1, 0.5)\n",
    "    ax.legend()\n",
    "    save_fig(fig, out_name, out_dir, 10, 10)\n",
    "    # plt.show()\n",
    "    plt.close(fig)\n",
    "\n",
    "def plot_psf_1d_compare(layouts, psf_id):\n",
    "    colors = ['r', 'b', 'g']\n",
    "    fig = plt.figure(figsize=(3, 3))\n",
    "    ax = fig.add_subplot(111)\n",
    "    xmax = 0.0\n",
    "    for i, name in enumerate(layouts):\n",
    "        psf = layouts[name]['psf'][psf_id]\n",
    "        ax.plot(psf['bin_x'], psf['bin_max'], '-', c=colors[i%3],\n",
    "                lw=1.0, label=name)\n",
    "        ax.plot(psf['bin_x'], psf['bin_mean'], '--', c=colors[i%3], \n",
    "                lw=1.0, label=name)\n",
    "        xmax = max(xmax, psf['bin_x'].max())\n",
    "    ax.legend()\n",
    "    ax.set_ylim(-0.1, 0.5)\n",
    "    ax.set_xlim(0, xmax / 2**0.5)\n",
    "    out_name = 'psf_compare_%.3f.png' % psf['fov']\n",
    "    out_dir = [results_dir, 'psf_1d']\n",
    "    save_fig(fig, out_name, out_dir, 10, 10)\n",
    "    # plt.show()\n",
    "    plt.close(fig)\n",
    "        \n",
    "\n",
    "# Generate PSF images\n",
    "for i, name in enumerate(layouts):\n",
    "    layout = layouts[name]\n",
    "    gen_psf(layout, psf_id=0)\n",
    "    # gen_psf(layout, fov_deg=3.0, psf_id=1)\n",
    "    gen_psf(layout, fov_deg=1.0, psf_id=2)\n",
    "\n",
    "# Plotting per PSF\n",
    "for i, name in enumerate(layouts):\n",
    "    psf = layouts[name]['psf']\n",
    "    for psf_id in psf:\n",
    "        plot_psf_2d(psf[psf_id], name)\n",
    "        plot_psf_1d(psf[psf_id], name)\n",
    "\n",
    "# Comparison of all layouts for a given id\n",
    "for psf_id in layouts[layouts.keys()[0]]['psf'].keys():\n",
    "    plot_psf_1d_compare(layouts, psf_id)\n",
    "        "
   ]
  },
  {
   "cell_type": "markdown",
   "metadata": {
    "heading_collapsed": true
   },
   "source": [
    "### Clear PSF from the layout"
   ]
  },
  {
   "cell_type": "code",
   "execution_count": 65,
   "metadata": {
    "ExecuteTime": {
     "end_time": "2016-06-20T18:31:22.911985",
     "start_time": "2016-06-20T18:31:22.906805"
    },
    "collapsed": false,
    "hidden": true
   },
   "outputs": [
    {
     "name": "stdout",
     "output_type": "stream",
     "text": [
      "clusters has no psf!\n",
      "spiral has no psf!\n"
     ]
    }
   ],
   "source": [
    "for name in layouts:\n",
    "    layouts[name].pop('psf', None)\n",
    "    \n",
    "for name in layouts:\n",
    "    if 'psf' in layouts[name]:\n",
    "        print(name, ':', layouts[name]['psf'].keys())\n",
    "    else:\n",
    "        print(name, 'has no psf!')"
   ]
  },
  {
   "cell_type": "code",
   "execution_count": null,
   "metadata": {
    "collapsed": true,
    "hidden": true
   },
   "outputs": [],
   "source": []
  }
 ],
 "metadata": {
  "kernelspec": {
   "display_name": "Python 2",
   "language": "python",
   "name": "python2"
  },
  "language_info": {
   "codemirror_mode": {
    "name": "ipython",
    "version": 2
   },
   "file_extension": ".py",
   "mimetype": "text/x-python",
   "name": "python",
   "nbconvert_exporter": "python",
   "pygments_lexer": "ipython2",
   "version": "2.7.11"
  },
  "widgets": {
   "state": {},
   "version": "1.1.2"
  }
 },
 "nbformat": 4,
 "nbformat_minor": 0
}
