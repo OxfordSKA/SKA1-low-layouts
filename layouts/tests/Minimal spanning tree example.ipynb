{
 "cells": [
  {
   "cell_type": "code",
   "execution_count": 1,
   "metadata": {
    "collapsed": false
   },
   "outputs": [],
   "source": [
    "%matplotlib inline\n",
    "from __future__ import print_function\n",
    "import numpy as np\n",
    "import matplotlib.pyplot as plt\n",
    "from scipy.sparse import csr_matrix\n",
    "from scipy.sparse.csgraph import minimum_spanning_tree\n",
    "from scipy.spatial.distance import pdist, squareform\n",
    "import time\n",
    "import math"
   ]
  },
  {
   "cell_type": "code",
   "execution_count": 2,
   "metadata": {
    "collapsed": false
   },
   "outputs": [],
   "source": [
    "# Generate coordinates\n",
    "num_antennas = 150\n",
    "cluster1 = numpy.random.randn(num_antennas, 2) * 250.0\n",
    "#cluster2 = numpy.random.randn(num_antennas, 2) * 10.0\n",
    "#cluster2[:, 0] += 100.0\n",
    "# cluster3 = numpy.random.randn(num_antennas, 2) * 20.0\n",
    "# cluster3[:, 0] -= 80.0\n",
    "# cluster3[:, 1] -= 80.0\n",
    "#coords = numpy.vstack([cluster1, cluster2])\n",
    "# coords = np.array([[-1.0, 0.0], [1.0, 0.0], [0.0, 3.0**0.5]])\n",
    "# coords = np.vstack((coords, [np.mean(coords[:, 0]), np.mean(coords[:, 1])]))\n",
    "\n",
    "\n",
    "def rotate_coords(x, y, angle):\n",
    "    theta = math.radians(angle)\n",
    "    xr = x * np.cos(theta) - y * np.sin(theta)\n",
    "    yr = x * np.sin(theta) + y * np.cos(theta)\n",
    "    return xr, yr\n",
    "\n",
    "\n",
    "def log_spiral_2(r0, r1, b, n):\n",
    "    if b == 0.0:\n",
    "        x = np.exp(np.linspace(math.log(r0), math.log(r1), n))\n",
    "        y = np.zeros(n)\n",
    "    else:\n",
    "        t_max = math.log(r1 / r0) * (1.0 / b)\n",
    "        t = numpy.linspace(0, t_max, n)\n",
    "        tmp = r0 * np.exp(b * t)\n",
    "        x = tmp * np.cos(t)\n",
    "        y = tmp * np.sin(t)\n",
    "    return x, y\n",
    "\n",
    "\n",
    "def inner_arms(b, num_arms, n, r_min, r_max):\n",
    "    x = np.zeros((num_arms, n))\n",
    "    y = np.zeros_like(x)\n",
    "    for i in range(num_arms):\n",
    "        x_, y_ = log_spiral_2(r_min, r_max, b, n)\n",
    "        theta = i * (360.0 / num_arms)\n",
    "        x[i, :], y[i, :] = rotate_coords(x_, y_, theta)\n",
    "    return np.transpose(np.vstack((x.flatten(), y.flatten())))\n",
    "\n",
    "coords = inner_arms(0.12, 3, 24, 500.0, 1700.0)\n",
    "cluster1 = cluster1[(cluster1[:,0]**2 + cluster1[:,1]**2)**0.5 < 500.0]\n",
    "coords = numpy.vstack((coords, cluster1))\n",
    "print(coords.shape)"
   ]
  },
  {
   "cell_type": "code",
   "execution_count": 5,
   "metadata": {
    "collapsed": false
   },
   "outputs": [],
   "source": [
    "# Evaluate minimal spanning tree\n",
    "dist = squareform(pdist(coords))\n",
    "t0 = time.time()\n",
    "# X = csr_matrix(dist)\n",
    "Tcsr =  minimum_spanning_tree(dist)\n",
    "tree = Tcsr.toarray()\n",
    "# tree = Tcsr\n",
    "print(type(tree))\n",
    "# print(Tcsr.shape)\n",
    "print('Time taken for %i antenans = %.3f s' \n",
    "      % (num_antennas, time.time() - t0))"
   ]
  },
  {
   "cell_type": "code",
   "execution_count": 6,
   "metadata": {
    "collapsed": false
   },
   "outputs": [],
   "source": [
    "# Plot result\n",
    "fig = plt.figure(figsize=(10, 10))\n",
    "ax = fig.add_subplot(111, aspect='equal')\n",
    "ax.plot(coords[:, 0], coords[:, 1], '.', ms=7.0)\n",
    "for i in range(coords.shape[0]):\n",
    "    for j in range(coords.shape[0]):\n",
    "        if tree[i, j] > 0.0:\n",
    "            ax.plot([coords[i, 0], coords[j, 0]], \n",
    "                    [coords[i, 1], coords[j, 1]], 'r-')\n",
    "\n",
    "# for i in range(coords.shape[0]):\n",
    "#     ax.text(coords[i, 0], coords[i, 1], '%i' % i)\n",
    "            \n",
    "# c = plt.Circle((0, 0), 10.0 * 2, fill=True, color='g', alpha=0.2)\n",
    "# ax.add_artist(c)\n",
    "# c = plt.Circle((100, 0), 10.0 * 2, fill=True, color='g', alpha=0.2)\n",
    "# ax.add_artist(c)\n",
    "# c = plt.Circle((-80, -80), 20.0 * 2, fill=True, color='g', alpha=0.2)\n",
    "# ax.add_artist(c)\n",
    "# ax.grid(True)\n",
    "ax.set_xlim(min(coords[:, 0])-10, max(coords[:, 0])+10)\n",
    "ax.set_ylim(min(coords[:, 1])-30, max(coords[:, 1])+10)\n",
    "print('Total path length =', numpy.sum(tree))\n",
    "\n",
    "# print('2,7', dist[2, 7])\n",
    "# print('5,7', dist[7, 5])"
   ]
  },
  {
   "cell_type": "code",
   "execution_count": null,
   "metadata": {},
   "outputs": [],
   "source": [
    ""
   ]
  }
 ],
 "metadata": {
  "celltoolbar": "Edit Metadata",
  "kernelspec": {
   "display_name": "Python 2",
   "language": "python",
   "name": "python2"
  },
  "language_info": {
   "codemirror_mode": {
    "name": "ipython",
    "version": 2.0
   },
   "file_extension": ".py",
   "mimetype": "text/x-python",
   "name": "python",
   "nbconvert_exporter": "python",
   "pygments_lexer": "ipython2",
   "version": "2.7.11"
  }
 },
 "nbformat": 4,
 "nbformat_minor": 0
}