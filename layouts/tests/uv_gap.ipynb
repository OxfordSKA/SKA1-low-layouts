{
 "cells": [
  {
   "cell_type": "code",
   "execution_count": 32,
   "metadata": {
    "collapsed": false
   },
   "outputs": [
    {
     "name": "stdout",
     "output_type": "stream",
     "text": [
      "Bin index of each data point:\n",
      "[ 1  3  3  5  6  7  8  9 10]\n",
      "Data gap index of each bin:\n",
      "[1 1 3 3 3 5 6 6 7 9]\n"
     ]
    },
    {
     "data": {
      "image/png": "[encoded data removed]",
      "text/plain": [
       "<matplotlib.figure.Figure at 0x10c54cf90>"
      ]
     },
     "metadata": {},
     "output_type": "display_data"
    }
   ],
   "source": [
    "from __future__ import print_function, division, absolute_import\n",
    "import numpy as np\n",
    "import matplotlib.pyplot as plt\n",
    "%matplotlib inline\n",
    "\n",
    "np.random.seed(5)\n",
    "num_values = 8\n",
    "num_bins = 10\n",
    "x = np.random.random(num_values)\n",
    "x = np.append(x, [0.0])\n",
    "x = numpy.sort(x)\n",
    "bin_edges = np.linspace(0, 1, num_bins + 1) \n",
    "bin_centres = (bin_edges[1:] + bin_edges[:-1]) / 2\n",
    "num_values = x.shape[0]\n",
    "\n",
    "# Bin index of each data point\n",
    "bin_idx = np.digitize(x, bin_edges)\n",
    "# Data point gap (diff) index of each bin\n",
    "data_idx = np.digitize(bin_centres, x)\n",
    "\n",
    "print('Bin index of each data point:')\n",
    "print(bin_idx)\n",
    "print('Data gap index of each bin:')\n",
    "print(data_idx)\n",
    "\n",
    "x_diff = np.diff(x)\n",
    "x_diff_norm = x_diff / x[1:]\n",
    "image = np.zeros((1, num_bins))\n",
    "    \n",
    "fig = plt.figure(figsize=(15, 3))\n",
    "ax = fig.add_subplot(111)\n",
    "ax.plot(x, np.zeros_like(x), '+', ms=8, mew=1.5)\n",
    "ax.set_ylim(-1, 1)\n",
    "ax.set_xlim(-0.01, 1.01)\n",
    "for edge in bin_edges:\n",
    "    ax.plot([edge, edge], ax.get_ylim(), 'r-', lw=2.0, alpha=0.5)\n",
    "ax.plot(bin_centres, np.zeros_like(bin_centres), 'gx', mew=2.0)\n",
    "im = ax.imshow(image, interpolation='nearest', cmap='gray_r', vmin=0.0, vmax=1.0, extent=[0.0, 1.0, -1.0, 1.0])\n",
    "ax.figure.colorbar(im, ax=ax)\n",
    "ax.set_aspect('auto')\n",
    "for i in range(num_bins):\n",
    "    ax.text(bin_centres[i], 0.15, '%i' % data_idx[i], va='center', ha='center')\n",
    "for i in range(num_values):\n",
    "    ax.text(x[i], -0.15, '%i' % bin_idx[i], va='center', ha='center')\n",
    "colors = ['c', 'm']\n",
    "for i in range(num_values - 1):\n",
    "    ax.plot([x[i], x[i+1]], [-0.3, -0.3], '-', color=colors[i % 2], lw=3.0, alpha=0.5)\n",
    "    ax.text(x[i] + x_diff[i] / 2.0, -0.4, '%.3f' % x_diff_norm[i], va='center', ha='center')"
   ]
  },
  {
   "cell_type": "code",
   "execution_count": null,
   "metadata": {
    "collapsed": true
   },
   "outputs": [],
   "source": [
    ""
   ]
  }
 ],
 "metadata": {
  "kernelspec": {
   "display_name": "Python 2",
   "language": "python",
   "name": "python2"
  },
  "language_info": {
   "codemirror_mode": {
    "name": "ipython",
    "version": 2.0
   },
   "file_extension": ".py",
   "mimetype": "text/x-python",
   "name": "python",
   "nbconvert_exporter": "python",
   "pygments_lexer": "ipython2",
   "version": "2.7.11"
  }
 },
 "nbformat": 4,
 "nbformat_minor": 0
}