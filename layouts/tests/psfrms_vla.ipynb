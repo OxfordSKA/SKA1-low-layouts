{
 "cells": [
  {
   "cell_type": "code",
   "execution_count": 103,
   "metadata": {
    "collapsed": false
   },
   "outputs": [],
   "source": [
    "%matplotlib inline\n",
    "from __future__ import print_function, division, absolute_import\n",
    "import numpy as np\n",
    "import matplotlib.pyplot as plt\n",
    "from matplotlib.colors import LogNorm\n",
    "from matplotlib.ticker import FormatStrFormatter\n",
    "from pyuvwsim import (evaluate_baseline_uvw_ha_dec,\n",
    "                      convert_enu_to_ecef)\n",
    "from math import radians, degrees, pi, ceil"
   ]
  },
  {
   "cell_type": "code",
   "execution_count": 121,
   "metadata": {
    "collapsed": true
   },
   "outputs": [],
   "source": [
    "# Settings\n",
    "lat = radians(34 + 4.0/60.0 + 43.497 / 3600.0)  # http://www.vla.nrao.edu/genpub/overview/\n",
    "lon = -radians(107 + 37 / 60 + 3.819 / 3600.0)\n",
    "alt = 2124  # m\n",
    "dec = radians(-30.0)\n",
    "ha_min = -0.0\n",
    "ha_max = +0.0\n",
    "dump_time = 10 # min\n",
    "duration = ha_max - ha_min\n",
    "num_times = 1 if duration == 0.0 else ((duration) * 60) // dump_time  # 1 sample every 10 min"
   ]
  },
  {
   "cell_type": "code",
   "execution_count": 122,
   "metadata": {
    "collapsed": false
   },
   "outputs": [],
   "source": [
    "# Load CASA VLA-C XYZ (ECEF) coordinates.\n",
    "coords = np.loadtxt('../models/vla.c.cfg')\n",
    "x, y, z = coords[:, 0], coords[:, 1], coords[:, 2]"
   ]
  },
  {
   "cell_type": "code",
   "execution_count": 134,
   "metadata": {
    "collapsed": false
   },
   "outputs": [],
   "source": [
    "# Load iAntConfig horizon coordinates and convert to ecef\n",
    "coords_enu = np.loadtxt('../models/vlaC.enu.27x3.txt')\n",
    "e, n = coords_enu[:-1, 1], coords_enu[:-1, 2]\n",
    "x1, y1, z1 = convert_enu_to_ecef(e, n, np.zeros_like(x), lon=radians(-90), lat=radians(30), alt=0.0)\n",
    "#x1, y1, z1 = convert_enu_to_ecef(e, n, np.zeros_like(x), lon, lat, alt)"
   ]
  },
  {
   "cell_type": "code",
   "execution_count": 135,
   "metadata": {
    "collapsed": false
   },
   "outputs": [
    {
     "name": "stdout",
     "output_type": "stream",
     "text": [
      "0 0.0\n"
     ]
    },
    {
     "data": {
      "image/png": "[encoded data removed]",
      "text/plain": [
       "<matplotlib.figure.Figure at 0x10ac3f050>"
      ]
     },
     "metadata": {},
     "output_type": "display_data"
    }
   ],
   "source": [
    "# Generate UV coordinates\n",
    "uu, vv, ww = np.array([]), np.array([]), np.array([])\n",
    "uu1, vv1, ww1 = np.array([]), np.array([]), np.array([])\n",
    "for i, ha in enumerate(np.linspace((ha_min/24)*(2*pi), (ha_max/24)*(2*pi), num_times)):\n",
    "    print(i, ha)\n",
    "    uu_, vv_, ww_ = evaluate_baseline_uvw_ha_dec(x, y, z, ha - lon, dec)\n",
    "    uu, vv, ww = np.append(uu, uu_), np.append(vv, vv_), np.append(ww, ww_)\n",
    "    uu_, vv_, ww_ = evaluate_baseline_uvw_ha_dec(x1, y1, z1, ha - lon, dec)\n",
    "    uu1, vv1, ww1 = np.append(uu1, uu_), np.append(vv1, vv_), np.append(ww1, ww_)\n",
    "    \n",
    "    \n",
    "fig = plt.figure(figsize=(5, 5))\n",
    "ax = fig.add_subplot(111, aspect='equal')\n",
    "ax.plot(uu / 1.0e3, vv / 1.0e3, '.', color='k', ms=2.0, alpha=1.0)\n",
    "ax.plot(-uu / 1.0e3, -vv / 1.0e3, '.', color='k', ms=2.0, alpha=1.0)\n",
    "ax.set_xlabel('uu (km)')\n",
    "ax.set_ylabel('vv (km)')\n",
    "ax.set_title('UV distribution')\n",
    "plt.show()"
   ]
  },
  {
   "cell_type": "code",
   "execution_count": 136,
   "metadata": {
    "collapsed": false
   },
   "outputs": [
    {
     "data": {
      "image/png": "[encoded data removed]",
      "text/plain": [
       "<matplotlib.figure.Figure at 0x10d01e450>"
      ]
     },
     "metadata": {},
     "output_type": "display_data"
    }
   ],
   "source": [
    "# Results from iAntConfig (http://public.ska.ac.za/software/iantconfig)\n",
    "data = np.loadtxt('/Users/bmort/Desktop/ant_conf_metrics.txt.20x3.txt')\n",
    "fig = plt.figure(figsize=(10, 3))\n",
    "ax = fig.add_subplot(111)\n",
    "ax.plot(data[:, 1], data[:, 2], 'r.-', ms=10)\n",
    "ax.set_xscale('log')\n",
    "ax.set_yscale('log')\n",
    "ax.set_xlim(10, 5000)\n",
    "ax.grid(True)\n",
    "ax.set_xlabel('radius (m)')\n",
    "ax.set_ylabel('psfrms')\n",
    "plt.show()"
   ]
  },
  {
   "cell_type": "code",
   "execution_count": 137,
   "metadata": {
    "collapsed": false
   },
   "outputs": [
    {
     "name": "stdout",
     "output_type": "stream",
     "text": [
      "xy:-0.00271 r2d:-0.00066 r3d:0.00774\n",
      "xy:-0.20125 r2d:-0.17920 r3d:0.00784\n"
     ]
    }
   ],
   "source": [
    "# Grid the uv data\n",
    "oversampling = 2.4\n",
    "r2d = (uu**2 + vv**2)**0.5\n",
    "r3d = (uu**2 + vv**2 + ww**2)**0.5\n",
    "dish_d = 25.0\n",
    "cell = dish_d / 2.4\n",
    "uv_max = max(np.abs(uu).max(), np.abs(vv).max())\n",
    "print('xy:%.5f r2d:%.5f r3d:%.5f' % (uv_max/1e3 - 3.37973, r2d.max()/1e3 - 3.37973, r3d.max()/1e3 - 3.37973))\n",
    "\n",
    "r2d = (uu1**2 + vv1**2)**0.5\n",
    "r3d = (uu1**2 + vv1**2 + ww1**2)**0.5\n",
    "dish_d = 25.0\n",
    "cell = dish_d / 2.4\n",
    "uv_max = max(np.abs(uu1).max(), np.abs(vv1).max())\n",
    "print('xy:%.5f r2d:%.5f r3d:%.5f' % (uv_max/1e3 - 3.37973, r2d.max()/1e3 - 3.37973, r3d.max()/1e3 - 3.37973))\n",
    "\n",
    "\n"
   ]
  },
  {
   "cell_type": "code",
   "execution_count": null,
   "metadata": {
    "collapsed": true
   },
   "outputs": [],
   "source": []
  }
 ],
 "metadata": {
  "kernelspec": {
   "display_name": "Python 2",
   "language": "python",
   "name": "python2"
  },
  "language_info": {
   "codemirror_mode": {
    "name": "ipython",
    "version": 2
   },
   "file_extension": ".py",
   "mimetype": "text/x-python",
   "name": "python",
   "nbconvert_exporter": "python",
   "pygments_lexer": "ipython2",
   "version": "2.7.11"
  }
 },
 "nbformat": 4,
 "nbformat_minor": 0
}
